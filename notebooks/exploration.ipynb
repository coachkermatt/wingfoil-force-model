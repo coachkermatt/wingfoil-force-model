{
  "cells": [
    {
      "cell_type": "markdown",
      "metadata": {},
      "source": [
        "# Wing Foiling Force Model \u2014 Colab helper (MPH)\n",
        "Run the cells to install dependencies and launch the Streamlit app with an ngrok tunnel.\n",
        "Ensure `/content/wingfoil/.env` exists (provided in this repo) for ngrok auth."
      ]
    },
    {
      "cell_type": "code",
      "execution_count": null,
      "metadata": {},
      "outputs": [],
      "source": [
        "%%bash\n",
        "pip install -q -r /content/wingfoil/requirements.txt\n",
        "python - << 'PY'\n",
        "from pathlib import Path\n",
        "src = Path('/content/wingfoil')\n",
        "print('Project files:')\n",
        "print('\\n'.join(str(p) for p in src.glob('**/*') if p.is_file()))\n",
        "PY"
      ]
    },
    {
      "cell_type": "code",
      "execution_count": null,
      "metadata": {},
      "outputs": [],
      "source": [
        "import os\n",
        "from pyngrok import ngrok\n",
        "from dotenv import load_dotenv\n",
        "load_dotenv('/content/wingfoil/.env')\n",
        "token = os.getenv('NGROK_AUTH_TOKEN', '')\n",
        "if token:\n",
        "    ngrok.set_auth_token(token)\n",
        "public_url = ngrok.connect(8501)\n",
        "public_url"
      ]
    },
    {
      "cell_type": "code",
      "execution_count": null,
      "metadata": {},
      "outputs": [],
      "source": [
        "import subprocess, threading, time\n",
        "def run_app():\n",
        "    subprocess.run(['streamlit', 'run', '/content/wingfoil/app.py'])\n",
        "thread = threading.Thread(target=run_app, daemon=True)\n",
        "thread.start()\n",
        "print('App starting...')\n",
        "time.sleep(5)\n",
        "print('If using ngrok, open the public URL above.')"
      ]
    }
  ],
  "metadata": {
    "kernelspec": {
      "display_name": "Python 3",
      "language": "python",
      "name": "python3"
    },
    "language_info": {
      "name": "python"
    }
  },
  "nbformat": 4,
  "nbformat_minor": 2
}